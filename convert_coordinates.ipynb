{
 "cells": [
  {
   "cell_type": "code",
   "execution_count": 9,
   "metadata": {},
   "outputs": [],
   "source": [
    "import astropy.units as u\n",
    "from astropy.coordinates import SkyCoord, EarthLocation\n",
    "from astropy.time import Time"
   ]
  },
  {
   "cell_type": "code",
   "execution_count": 23,
   "metadata": {},
   "outputs": [
    {
     "data": {
      "text/plain": [
       "<SkyCoord (ICRS): (x, y, z) in km\n",
       "    ( -1.95369323e+08,   1.32495152e+08, -48561229.71877893)>"
      ]
     },
     "execution_count": 23,
     "metadata": {},
     "output_type": "execute_result"
    }
   ],
   "source": [
    "loc = EarthLocation(lat = 22.5726*u.deg, lon = 88.3639*u.deg, height = 0*u.m)\n",
    "time = Time(1515110400, format='unix')\n",
    "newAltAzcoordiantes = SkyCoord(alt = 32.42851414*u.deg, az = 192.8100706*u.deg, distance=191035815.3*u.km, obstime = time, frame = 'altaz', location = loc)\n",
    "obj = newAltAzcoordiantes.icrs\n",
    "obj.representation = 'cartesian'\n",
    "obj"
   ]
  },
  {
   "cell_type": "code",
   "execution_count": null,
   "metadata": {},
   "outputs": [],
   "source": []
  }
 ],
 "metadata": {
  "kernelspec": {
   "display_name": "Python 2",
   "language": "python",
   "name": "python2"
  },
  "language_info": {
   "codemirror_mode": {
    "name": "ipython",
    "version": 2
   },
   "file_extension": ".py",
   "mimetype": "text/x-python",
   "name": "python",
   "nbconvert_exporter": "python",
   "pygments_lexer": "ipython2",
   "version": "2.7.6"
  }
 },
 "nbformat": 4,
 "nbformat_minor": 2
}
