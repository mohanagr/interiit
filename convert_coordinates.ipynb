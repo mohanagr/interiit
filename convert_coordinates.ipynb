{
 "cells": [
  {
   "cell_type": "code",
   "execution_count": 40,
   "metadata": {},
   "outputs": [],
   "source": [
    "import astropy.units as u\n",
    "from astropy.coordinates import SkyCoord, EarthLocation, AltAz, ICRS, CartesianRepresentation, CartesianDifferential\n",
    "from astropy.time import Time"
   ]
  },
  {
   "cell_type": "code",
   "execution_count": 53,
   "metadata": {},
   "outputs": [
    {
     "data": {
      "text/plain": [
       "<AltAz Coordinate (obstime=1515110400.0, location=(168237.7004225489, 5890037.320352326, 2433082.6015647054) m, pressure=0.0 hPa, temperature=0.0 deg_C, relative_humidity=0, obswl=1.0 micron): (x, y, z) in km\n",
       "    ( -1.57232565e+08, -35751426.00598929,   1.02442368e+08)\n",
       " (v_x, v_y, v_z) in km / s\n",
       "    ( 31., -10.,  75.)>"
      ]
     },
     "execution_count": 53,
     "metadata": {},
     "output_type": "execute_result"
    }
   ],
   "source": [
    "loc = EarthLocation(lat = 22.5726*u.deg, lon = 88.3639*u.deg, height = 0*u.m)\n",
    "time = Time(1515110400, format='unix')\n",
    "newAltAz = AltAz(alt = 32.42851414*u.deg, az = 192.8100706*u.deg, distance=191035815.3*u.km, obstime = time, location = loc)\n",
    "newAltAz.representation = \"cartesian\"\n",
    "newAltAz\n",
    "velocity = AltAz(x = newAltAz.x, y = newAltAz.y, z = newAltAz.z, obstime = time, location = loc, v_x=31*u.km/u.s, v_y=-10*u.km/u.s, v_z=75*u.km/u.s, representation=CartesianRepresentation, differential_cls=CartesianDifferential )\n",
    "obj = velocity.transform_to(ICRS)\n",
    "print velocity\n",
    "obj.representation = \"cartesian\"\n",
    "obj.differential_cls = CartesianDifferential\n",
    "print obj"
   ]
  },
  {
   "cell_type": "code",
   "execution_count": null,
   "metadata": {},
   "outputs": [],
   "source": []
  }
 ],
 "metadata": {
  "kernelspec": {
   "display_name": "Python 2",
   "language": "python",
   "name": "python2"
  },
  "language_info": {
   "codemirror_mode": {
    "name": "ipython",
    "version": 2
   },
   "file_extension": ".py",
   "mimetype": "text/x-python",
   "name": "python",
   "nbconvert_exporter": "python",
   "pygments_lexer": "ipython2",
   "version": "2.7.6"
  }
 },
 "nbformat": 4,
 "nbformat_minor": 2
}
