{
 "cells": [
  {
   "cell_type": "code",
   "execution_count": 1,
   "metadata": {},
   "outputs": [],
   "source": [
    "import astropy.units as u\n",
    "from astropy.coordinates import SkyCoord, EarthLocation, AltAz, ICRS, CartesianRepresentation, CartesianDifferential\n",
    "from astropy.time import Time\n",
    "import pandas as pd"
   ]
  },
  {
   "cell_type": "code",
   "execution_count": 2,
   "metadata": {},
   "outputs": [],
   "source": [
    "f = pd.read_excel('input/alt_az_radial.xlsx', sheet='Sheet1')\n",
    "f_vel = pd.read_excel('input/asteroid_vel.xlsx', sheet=\"Sheet1\")"
   ]
  },
  {
   "cell_type": "code",
   "execution_count": 21,
   "metadata": {},
   "outputs": [],
   "source": [
    "loc = EarthLocation(lat = 22.5726*u.deg, lon = 88.3639*u.deg, height = 0*u.m)\n",
    "time = Time(1515110400, format='unix')\n",
    "\n",
    "helio_data = []\n",
    "# pd.DataFrame(columns=['Name of asteroid', 'x', 'y', 'z', 'v_x', 'v_y', 'v_z'])\n",
    "for i in range(0, 400):\n",
    "    newAltAz = AltAz(alt = f.iloc[i][2]*u.deg, az = f.iloc[i][1]*u.deg, distance=f.iloc[i][3]*u.km, obstime = time, location = loc)\n",
    "    newAltAz.representation = \"cartesian\"\n",
    "    velocity = AltAz(x = newAltAz.x, \n",
    "                     y = newAltAz.y, \n",
    "                     z = newAltAz.z, \n",
    "                     obstime = time, \n",
    "                     location = loc, \n",
    "                     v_x=f_vel.iloc[i][1]*u.km/u.s, \n",
    "                     v_y=f_vel.iloc[i][2]*u.km/u.s, \n",
    "                     v_z=f_vel.iloc[i][3]*u.km/u.s, \n",
    "                     representation=CartesianRepresentation, \n",
    "                     differential_cls=CartesianDifferential\n",
    "                    )\n",
    "    obj = velocity.transform_to(ICRS)\n",
    "    obj.representation = \"cartesian\"\n",
    "    obj.differential_cls = CartesianDifferential\n",
    "    dict1 = {\n",
    "        'Name of asteroid' : f.iloc[i][0],\n",
    "        'x' : obj.x,\n",
    "        'y' : obj.y,\n",
    "        'z' : obj.z,\n",
    "        'v_x' : obj.v_x,\n",
    "        'v_y' : obj.v_y,\n",
    "        'v_z' : obj.v_z\n",
    "    }\n",
    "    helio_data.append(dict1)\n",
    "df = pd.DataFrame(helio_data, columns=['Name of asteroid', 'x', 'y', 'z', 'v_x', 'v_y', 'v_z'])"
   ]
  },
  {
   "cell_type": "code",
   "execution_count": 20,
   "metadata": {},
   "outputs": [],
   "source": [
    "file_name = 'input/helio_data.csv'\n",
    "df.to_csv(file_name, encoding='utf-8')"
   ]
  },
  {
   "cell_type": "code",
   "execution_count": null,
   "metadata": {},
   "outputs": [],
   "source": []
  },
  {
   "cell_type": "code",
   "execution_count": null,
   "metadata": {},
   "outputs": [],
   "source": []
  }
 ],
 "metadata": {
  "kernelspec": {
   "display_name": "Python 2",
   "language": "python",
   "name": "python2"
  },
  "language_info": {
   "codemirror_mode": {
    "name": "ipython",
    "version": 2
   },
   "file_extension": ".py",
   "mimetype": "text/x-python",
   "name": "python",
   "nbconvert_exporter": "python",
   "pygments_lexer": "ipython2",
   "version": "2.7.6"
  }
 },
 "nbformat": 4,
 "nbformat_minor": 2
}
